{
 "cells": [
  {
   "cell_type": "code",
   "execution_count": 19,
   "metadata": {},
   "outputs": [],
   "source": [
    "import pandas as pd\n",
    "from sklearn.model_selection import train_test_split\n",
    "from sklearn.feature_extraction.text import CountVectorizer\n",
    "from sklearn.naive_bayes import GaussianNB, MultinomialNB, BernoulliNB\n",
    "from sklearn.metrics import accuracy_score\n",
    "from sklearn.metrics import confusion_matrix\n",
    "import seaborn as sns\n",
    "import matplotlib.pyplot as plt\n",
    "from sklearn.ensemble import RandomForestClassifier"
   ]
  },
  {
   "cell_type": "code",
   "execution_count": 6,
   "metadata": {},
   "outputs": [
    {
     "data": {
      "text/html": [
       "<div>\n",
       "<style scoped>\n",
       "    .dataframe tbody tr th:only-of-type {\n",
       "        vertical-align: middle;\n",
       "    }\n",
       "\n",
       "    .dataframe tbody tr th {\n",
       "        vertical-align: top;\n",
       "    }\n",
       "\n",
       "    .dataframe thead th {\n",
       "        text-align: right;\n",
       "    }\n",
       "</style>\n",
       "<table border=\"1\" class=\"dataframe\">\n",
       "  <thead>\n",
       "    <tr style=\"text-align: right;\">\n",
       "      <th></th>\n",
       "      <th>package_name</th>\n",
       "      <th>review</th>\n",
       "      <th>polarity</th>\n",
       "    </tr>\n",
       "  </thead>\n",
       "  <tbody>\n",
       "    <tr>\n",
       "      <th>0</th>\n",
       "      <td>com.facebook.katana</td>\n",
       "      <td>privacy at least put some option appear offli...</td>\n",
       "      <td>0</td>\n",
       "    </tr>\n",
       "    <tr>\n",
       "      <th>1</th>\n",
       "      <td>com.facebook.katana</td>\n",
       "      <td>messenger issues ever since the last update, ...</td>\n",
       "      <td>0</td>\n",
       "    </tr>\n",
       "    <tr>\n",
       "      <th>2</th>\n",
       "      <td>com.facebook.katana</td>\n",
       "      <td>profile any time my wife or anybody has more ...</td>\n",
       "      <td>0</td>\n",
       "    </tr>\n",
       "    <tr>\n",
       "      <th>3</th>\n",
       "      <td>com.facebook.katana</td>\n",
       "      <td>the new features suck for those of us who don...</td>\n",
       "      <td>0</td>\n",
       "    </tr>\n",
       "    <tr>\n",
       "      <th>4</th>\n",
       "      <td>com.facebook.katana</td>\n",
       "      <td>forced reload on uploading pic on replying co...</td>\n",
       "      <td>0</td>\n",
       "    </tr>\n",
       "    <tr>\n",
       "      <th>...</th>\n",
       "      <td>...</td>\n",
       "      <td>...</td>\n",
       "      <td>...</td>\n",
       "    </tr>\n",
       "    <tr>\n",
       "      <th>886</th>\n",
       "      <td>com.rovio.angrybirds</td>\n",
       "      <td>loved it i loooooooooooooovvved it because it...</td>\n",
       "      <td>1</td>\n",
       "    </tr>\n",
       "    <tr>\n",
       "      <th>887</th>\n",
       "      <td>com.rovio.angrybirds</td>\n",
       "      <td>all time legendary game the birthday party le...</td>\n",
       "      <td>1</td>\n",
       "    </tr>\n",
       "    <tr>\n",
       "      <th>888</th>\n",
       "      <td>com.rovio.angrybirds</td>\n",
       "      <td>ads are way to heavy listen to the bad review...</td>\n",
       "      <td>0</td>\n",
       "    </tr>\n",
       "    <tr>\n",
       "      <th>889</th>\n",
       "      <td>com.rovio.angrybirds</td>\n",
       "      <td>fun works perfectly well. ads aren't as annoy...</td>\n",
       "      <td>1</td>\n",
       "    </tr>\n",
       "    <tr>\n",
       "      <th>890</th>\n",
       "      <td>com.rovio.angrybirds</td>\n",
       "      <td>they're everywhere i see angry birds everywhe...</td>\n",
       "      <td>1</td>\n",
       "    </tr>\n",
       "  </tbody>\n",
       "</table>\n",
       "<p>891 rows × 3 columns</p>\n",
       "</div>"
      ],
      "text/plain": [
       "             package_name                                             review  \\\n",
       "0     com.facebook.katana   privacy at least put some option appear offli...   \n",
       "1     com.facebook.katana   messenger issues ever since the last update, ...   \n",
       "2     com.facebook.katana   profile any time my wife or anybody has more ...   \n",
       "3     com.facebook.katana   the new features suck for those of us who don...   \n",
       "4     com.facebook.katana   forced reload on uploading pic on replying co...   \n",
       "..                    ...                                                ...   \n",
       "886  com.rovio.angrybirds   loved it i loooooooooooooovvved it because it...   \n",
       "887  com.rovio.angrybirds   all time legendary game the birthday party le...   \n",
       "888  com.rovio.angrybirds   ads are way to heavy listen to the bad review...   \n",
       "889  com.rovio.angrybirds   fun works perfectly well. ads aren't as annoy...   \n",
       "890  com.rovio.angrybirds   they're everywhere i see angry birds everywhe...   \n",
       "\n",
       "     polarity  \n",
       "0           0  \n",
       "1           0  \n",
       "2           0  \n",
       "3           0  \n",
       "4           0  \n",
       "..        ...  \n",
       "886         1  \n",
       "887         1  \n",
       "888         0  \n",
       "889         1  \n",
       "890         1  \n",
       "\n",
       "[891 rows x 3 columns]"
      ]
     },
     "execution_count": 6,
     "metadata": {},
     "output_type": "execute_result"
    }
   ],
   "source": [
    "df = pd.read_csv('https://raw.githubusercontent.com/4GeeksAcademy/naive-bayes-project-tutorial/main/playstore_reviews.csv')\n",
    "df"
   ]
  },
  {
   "cell_type": "code",
   "execution_count": 7,
   "metadata": {},
   "outputs": [],
   "source": [
    "# Eliminamos la variable (package_name)\n",
    "df = df.drop(columns=[\"package_name\"])"
   ]
  },
  {
   "cell_type": "code",
   "execution_count": null,
   "metadata": {},
   "outputs": [],
   "source": [
    "# Eliminamos espacios y convertimos a minúsculas el texto en la columna (review)\n",
    "df[\"review\"] = df[\"review\"].str.strip().str.lower()"
   ]
  },
  {
   "cell_type": "code",
   "execution_count": 8,
   "metadata": {},
   "outputs": [
    {
     "name": "stdout",
     "output_type": "stream",
     "text": [
      "                                              review  polarity\n",
      "0   privacy at least put some option appear offli...         0\n",
      "1   messenger issues ever since the last update, ...         0\n",
      "2   profile any time my wife or anybody has more ...         0\n",
      "3   the new features suck for those of us who don...         0\n",
      "4   forced reload on uploading pic on replying co...         0\n"
     ]
    }
   ],
   "source": [
    "print(df.head())"
   ]
  },
  {
   "cell_type": "code",
   "execution_count": 12,
   "metadata": {},
   "outputs": [],
   "source": [
    "# Division conjunto de entrenamiento y prueba\n",
    "x_train, x_test, y_train, y_test = train_test_split(df[\"review\"], df[\"polarity\"], test_size=0.2, random_state=42)"
   ]
  },
  {
   "cell_type": "code",
   "execution_count": 13,
   "metadata": {},
   "outputs": [],
   "source": [
    "# Transformar el texto en una matriz de recuento de palabras\n",
    "vec_model = CountVectorizer(stop_words=\"english\")\n",
    "x_train_transformed = vec_model.fit_transform(x_train).toarray()\n",
    "x_test_transformed = vec_model.transform(x_test).toarray()"
   ]
  },
  {
   "cell_type": "code",
   "execution_count": 14,
   "metadata": {},
   "outputs": [
    {
     "name": "stdout",
     "output_type": "stream",
     "text": [
      "[[0 0 0 ... 0 0 0]\n",
      " [0 0 0 ... 0 0 0]\n",
      " [0 0 0 ... 0 0 0]\n",
      " [0 0 0 ... 0 0 0]\n",
      " [0 0 0 ... 0 0 0]]\n"
     ]
    }
   ],
   "source": [
    "# Imprimir las primeras filas de X_train_transformed\n",
    "print(x_train_transformed[:5])"
   ]
  },
  {
   "cell_type": "markdown",
   "metadata": {},
   "source": [
    "VAMOS A ENTRENAR LOS TRES MODELOS Y VER LA PRECISIÓN \n",
    "    - gaussianNB\n",
    "    - MultinomialB\n",
    "    - BernoulliNB"
   ]
  },
  {
   "cell_type": "code",
   "execution_count": 16,
   "metadata": {},
   "outputs": [
    {
     "name": "stdout",
     "output_type": "stream",
     "text": [
      "Precisión del modelo Gaussian Naive Bayes: 0.8044692737430168\n",
      "Precisión del modelo Multinomial Naive Bayes: 0.8156424581005587\n",
      "Precisión del modelo Bernoulli Naive Bayes: 0.770949720670391\n"
     ]
    }
   ],
   "source": [
    "# Inicializar los modelos\n",
    "gaussian_nb = GaussianNB()\n",
    "multinomial_nb = MultinomialNB()\n",
    "bernoulli_nb = BernoulliNB()\n",
    "\n",
    "# Entrenar los modelos\n",
    "gaussian_nb.fit(x_train_transformed, y_train)\n",
    "multinomial_nb.fit(x_train_transformed, y_train)\n",
    "bernoulli_nb.fit(x_train_transformed, y_train)\n",
    "\n",
    "# Predecir con los modelos\n",
    "y_pred_gaussian = gaussian_nb.predict(x_test_transformed)\n",
    "y_pred_multinomial = multinomial_nb.predict(x_test_transformed)\n",
    "y_pred_bernoulli = bernoulli_nb.predict(x_test_transformed)\n",
    "\n",
    "# Calcular la precisión de los modelos\n",
    "accuracy_gaussian = accuracy_score(y_test, y_pred_gaussian)\n",
    "accuracy_multinomial = accuracy_score(y_test, y_pred_multinomial)\n",
    "accuracy_bernoulli = accuracy_score(y_test, y_pred_bernoulli)\n",
    "\n",
    "# Imprimir la precisión de los modelos\n",
    "print(\"Precisión del modelo Gaussian Naive Bayes:\", accuracy_gaussian)\n",
    "print(\"Precisión del modelo Multinomial Naive Bayes:\", accuracy_multinomial)\n",
    "print(\"Precisión del modelo Bernoulli Naive Bayes:\", accuracy_bernoulli)"
   ]
  },
  {
   "cell_type": "code",
   "execution_count": 18,
   "metadata": {},
   "outputs": [
    {
     "data": {
      "image/png": "[encoded data removed]",
      "text/plain": [
       "<Figure size 1500x500 with 6 Axes>"
      ]
     },
     "metadata": {},
     "output_type": "display_data"
    }
   ],
   "source": [
    "# Creamos matrices de confusion para cada modelo \n",
    "conf_matrix_gaussian = confusion_matrix(y_test, y_pred_gaussian)\n",
    "conf_matrix_multinomial = confusion_matrix(y_test, y_pred_multinomial)\n",
    "conf_matrix_bernoulli = confusion_matrix(y_test, y_pred_bernoulli)\n",
    "\n",
    "fig, axes = plt.subplots(1, 3, figsize=(15, 5))\n",
    "\n",
    "# Matriz de confusión para Gaussian Naive Bayes\n",
    "sns.heatmap(conf_matrix_gaussian, annot=True, fmt=\"d\", cmap=\"Blues\", ax=axes[0])\n",
    "axes[0].set_title(\"Matriz de Confusión - Gaussian NB\")\n",
    "axes[0].set_xlabel(\"Predicted Label\")\n",
    "axes[0].set_ylabel(\"True Label\")\n",
    "\n",
    "# Matriz de confusión para Multinomial Naive Bayes\n",
    "sns.heatmap(conf_matrix_multinomial, annot=True, fmt=\"d\", cmap=\"Blues\", ax=axes[1])\n",
    "axes[1].set_title(\"Matriz de Confusión - Multinomial NB\")\n",
    "axes[1].set_xlabel(\"Predicted Label\")\n",
    "axes[1].set_ylabel(\"True Label\")\n",
    "\n",
    "# Matriz de confusión para Bernoulli Naive Bayes\n",
    "sns.heatmap(conf_matrix_bernoulli, annot=True, fmt=\"d\", cmap=\"Blues\", ax=axes[2])\n",
    "axes[2].set_title(\"Matriz de Confusión - Bernoulli NB\")\n",
    "axes[2].set_xlabel(\"Predicted Label\")\n",
    "axes[2].set_ylabel(\"True Label\")\n",
    "\n",
    "plt.tight_layout()\n",
    "plt.show()\n"
   ]
  },
  {
   "cell_type": "markdown",
   "metadata": {},
   "source": [
    "OBSERVACIONES \n",
    "\n",
    "el modelo que alcanzó la mayor precisión en el conjunto de prueba fue el modelo Multinomial Naive Bayes. (81%)\n",
    "\n"
   ]
  },
  {
   "cell_type": "markdown",
   "metadata": {},
   "source": [
    "OPTIMIZACION DE LOS RESULTADOS CON RANDOM FOREST\n"
   ]
  },
  {
   "cell_type": "code",
   "execution_count": 20,
   "metadata": {},
   "outputs": [
    {
     "name": "stdout",
     "output_type": "stream",
     "text": [
      "Precisión del modelo Random Forest 0.7988826815642458\n"
     ]
    }
   ],
   "source": [
    "# Inicializamos el modelo Random Forest\n",
    "random_forest = RandomForestClassifier(random_state=42)\n",
    "\n",
    "# Entreno del modelo\n",
    "random_forest.fit(x_train_transformed, y_train)\n",
    "\n",
    "# Prediccion con el modelo\n",
    "y_pred_random_forest = random_forest.predict(x_test_transformed)\n",
    "\n",
    "# Precision del modelo\n",
    "accuracy_random_forest = accuracy_score(y_test, y_pred_random_forest)\n",
    "\n",
    "print(\"Precisión del modelo Random Forest\", accuracy_random_forest)"
   ]
  },
  {
   "cell_type": "markdown",
   "metadata": {},
   "source": [
    "OBSERVASIONES\n",
    "\n",
    "El modelo Random Forest ofrece un resultado ligeramente inferior que el modelo Multinimial\n"
   ]
  },
  {
   "cell_type": "code",
   "execution_count": 28,
   "metadata": {},
   "outputs": [
    {
     "name": "stdout",
     "output_type": "stream",
     "text": [
      "La carpeta ya existe.\n",
      "El modelo se ha guardado correctamente en: C:/Users/lenovo/Desktop/Proyectos Machine Learning/Bootcamp/Proyecto Random Forest/models\\modelo_multinomial\n"
     ]
    }
   ],
   "source": [
    "import joblib\n",
    "import os\n",
    "\n",
    "# Variable modelo y ruta\n",
    "modelo_multinomial = multinomial_nb \n",
    "nombre_archivo = \"modelo_multinomial\"\n",
    "ruta_carpeta = 'C:/Users/lenovo/Desktop/Proyectos Machine Learning/Bootcamp/Proyecto Random Forest/models'\n",
    "\n",
    "# Si la carpeta no existe, crearla\n",
    "if not os.path.exists(ruta_carpeta):\n",
    "    os.makedirs(ruta_carpeta)\n",
    "    print(\"La carpeta se ha creado correctamente.\")\n",
    "else:\n",
    "    print(\"La carpeta ya existe.\")\n",
    "\n",
    "# Guardar el modelo en la carpeta especificada\n",
    "ruta_modelo = os.path.join(ruta_carpeta, nombre_archivo)\n",
    "joblib.dump(modelo_multinomial, ruta_modelo)\n",
    "print(\"El modelo se ha guardado correctamente en:\", ruta_modelo)"
   ]
  },
  {
   "cell_type": "markdown",
   "metadata": {},
   "source": [
    "OTRA ALTERNATIVA DE MODELO\n",
    "\n",
    "Probemos un modelo de Gradient Boosting, ya que Random Forest no dio un mal resultado."
   ]
  },
  {
   "cell_type": "code",
   "execution_count": 35,
   "metadata": {},
   "outputs": [
    {
     "name": "stdout",
     "output_type": "stream",
     "text": [
      "Precisión del modelo Gradient Boosting: 0.7318435754189944\n"
     ]
    }
   ],
   "source": [
    "from sklearn.ensemble import GradientBoostingClassifier\n",
    "\n",
    "# Inicializar y entrenar el modelo Gradient Boosting\n",
    "gradient_boosting_model = GradientBoostingClassifier(random_state=42)\n",
    "gradient_boosting_model.fit(x_train_transformed, y_train)\n",
    "\n",
    "# Predecir con el modelo Gradient Boosting\n",
    "y_pred_gradient_boosting = gradient_boosting_model.predict(x_test_transformed)\n",
    "\n",
    "# Calcular la precisión del modelo en el conjunto de prueba\n",
    "accuracy_gradient_boosting = gradient_boosting_model.score(x_test_transformed, y_test)\n",
    "print(\"Precisión del modelo Gradient Boosting:\", accuracy_gradient_boosting)"
   ]
  },
  {
   "cell_type": "markdown",
   "metadata": {},
   "source": [
    "COMPARACION DE LAS METRICAS DE LOS TRES MODELOS \n"
   ]
  },
  {
   "cell_type": "code",
   "execution_count": 36,
   "metadata": {},
   "outputs": [
    {
     "name": "stdout",
     "output_type": "stream",
     "text": [
      "Métricas del modelo Multinomial Naive Bayes:\n",
      "              precision    recall  f1-score   support\n",
      "\n",
      "           0       0.84      0.90      0.87       126\n",
      "           1       0.73      0.60      0.66        53\n",
      "\n",
      "    accuracy                           0.82       179\n",
      "   macro avg       0.79      0.75      0.77       179\n",
      "weighted avg       0.81      0.82      0.81       179\n",
      "\n",
      "\n",
      "Métricas del modelo Gradient Boosting:\n",
      "              precision    recall  f1-score   support\n",
      "\n",
      "           0       0.80      0.83      0.81       126\n",
      "           1       0.55      0.49      0.52        53\n",
      "\n",
      "    accuracy                           0.73       179\n",
      "   macro avg       0.67      0.66      0.67       179\n",
      "weighted avg       0.72      0.73      0.73       179\n",
      "\n",
      "\n",
      "Métricas del modelo Random Forest:\n",
      "              precision    recall  f1-score   support\n",
      "\n",
      "           0       0.88      0.83      0.85       126\n",
      "           1       0.64      0.74      0.68        53\n",
      "\n",
      "    accuracy                           0.80       179\n",
      "   macro avg       0.76      0.78      0.77       179\n",
      "weighted avg       0.81      0.80      0.80       179\n",
      "\n"
     ]
    }
   ],
   "source": [
    "from sklearn.metrics import classification_report\n",
    "\n",
    "# Evaluar el modelo Multinomial Naive Bayes\n",
    "print(\"Métricas del modelo Multinomial Naive Bayes:\")\n",
    "print(classification_report(y_test, y_pred_multinomial))\n",
    "\n",
    "# Evaluar el modelo Gradient Boosting\n",
    "print(\"\\nMétricas del modelo Gradient Boosting:\")\n",
    "print(classification_report(y_test, y_pred_gradient_boosting))\n",
    "\n",
    "# Evaluar el modelo Random Forest\n",
    "print(\"\\nMétricas del modelo Random Forest:\")\n",
    "print(classification_report(y_test, y_pred_random_forest))"
   ]
  }
 ],
 "metadata": {
  "kernelspec": {
   "display_name": "Python 3",
   "language": "python",
   "name": "python3"
  },
  "language_info": {
   "codemirror_mode": {
    "name": "ipython",
    "version": 3
   },
   "file_extension": ".py",
   "mimetype": "text/x-python",
   "name": "python",
   "nbconvert_exporter": "python",
   "pygments_lexer": "ipython3",
   "version": "3.12.2"
  }
 },
 "nbformat": 4,
 "nbformat_minor": 2
}
